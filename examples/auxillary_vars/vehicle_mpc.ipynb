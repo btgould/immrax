{
 "cells": [
  {
   "cell_type": "code",
   "execution_count": 48,
   "metadata": {},
   "outputs": [],
   "source": [
    "import jax\n",
    "import jax.numpy as jnp\n",
    "from jax import jit\n",
    "\n",
    "import immrax as irx\n",
    "from immrax.embedding import AuxVarEmbedding\n",
    "from immrax.system import Trajectory\n",
    "from immrax.utils import draw_trajectory_2d, draw_refined_trajectory_2d, angular_sweep\n",
    "\n",
    "from casadi import MX, Function, Opti, pi, arctan, cos, sin, tan\n",
    "import control\n",
    "import numpy as onp\n",
    "\n",
    "import matplotlib.pyplot as plt\n",
    "import matplotlib.patches as patches\n",
    "\n",
    "from dataclasses import dataclass\n",
    "from typing import Tuple"
   ]
  },
  {
   "cell_type": "code",
   "execution_count": 49,
   "metadata": {},
   "outputs": [],
   "source": [
    "# Vehicle parameters\n",
    "@dataclass\n",
    "class Vehicle:\n",
    "    lf: float = 1\n",
    "    lr: float = 1\n",
    "\n",
    "\n",
    "# Model parameters\n",
    "t0 = 0\n",
    "tf = 2\n",
    "du = 0.05  # Size of control discretization\n",
    "dtdu = 10  # Number of integration time steps per control discretization\n",
    "x0 = onp.array([8, 7, -2 * pi / 3, 2])\n",
    "u_fdbk_nom = jnp.zeros(2)\n",
    "w_nom = jnp.zeros(2)"
   ]
  },
  {
   "cell_type": "markdown",
   "metadata": {},
   "source": [
    "First, we solve an open loop optimal control problem: regulating our bicycle / vehicle system to the origin while avoiding an obstacle. \n",
    "At this stage, we assume the exact initial conditions are known, and there are no disturbances in the system. \n",
    "We solve this optimization problem with `CasADI` to get a series of optimal feed foward inputs, along with a nominal trajectory. "
   ]
  },
  {
   "cell_type": "code",
   "execution_count": 50,
   "metadata": {},
   "outputs": [],
   "source": [
    "class VehicleControl:\n",
    "    def __init__(\n",
    "        self, vehicle: Vehicle = Vehicle(), n_horizon=20, u_step=0.25, euler_steps=10\n",
    "    ):\n",
    "        self.vehicle = vehicle\n",
    "        self.n_horizon = n_horizon\n",
    "        self.u_step = u_step\n",
    "        self.euler_steps = euler_steps\n",
    "\n",
    "        x = MX.sym(\"x\", 4, 1)  # [x, y, psi, v]\n",
    "        psi = x[2]\n",
    "        v = x[3]\n",
    "        u = MX.sym(\"u\", 2, 1)  # [turning, acceleration]\n",
    "        u1 = u[0]\n",
    "        u2 = u[1]\n",
    "\n",
    "        xdot = MX(4, 1)\n",
    "        beta = arctan((self.vehicle.lr * tan(u2)) / (self.vehicle.lf + self.vehicle.lr))\n",
    "        xdot[0] = v * cos(psi + beta)\n",
    "        xdot[1] = v * sin(psi + beta)\n",
    "        xdot[2] = v * sin(beta) / self.vehicle.lr\n",
    "        xdot[3] = u1\n",
    "\n",
    "        f = Function(\"f\", [x, u], [xdot], [\"x\", \"u\"], [\"xdot\"])\n",
    "\n",
    "        N = self.n_horizon\n",
    "\n",
    "        def euler_integ(x, u):\n",
    "            step = self.u_step / self.euler_steps\n",
    "            for t in onp.arange(0, self.u_step, step):\n",
    "                x = x + step * f(x, u)\n",
    "            return x\n",
    "\n",
    "        euler_res = euler_integ(x, u)\n",
    "        F = Function(\"F\", [x, u], [euler_res], [\"x\", \"u\"], [\"x_next\"])\n",
    "\n",
    "        self.opti = Opti()\n",
    "        self.xx = self.opti.variable(4, N + 1)\n",
    "        self.uu = self.opti.variable(2, N)\n",
    "        self.x0 = self.opti.parameter(4, 1)\n",
    "        self.slack = self.opti.variable(1, N)\n",
    "\n",
    "        self.opti.subject_to(self.xx[:, 0] == self.x0)\n",
    "        J = 0\n",
    "        for n in range(N):\n",
    "            # Dynamics constraints\n",
    "            self.opti.subject_to(self.xx[:, n + 1] == F(self.xx[:, n], self.uu[:, n]))\n",
    "\n",
    "            # Penalize state and control effort\n",
    "            J += (\n",
    "                self.xx[0, n] ** 2\n",
    "                + self.xx[1, n] ** 2\n",
    "                + 0.1 * self.uu[0, n] ** 2\n",
    "                + 15 * self.uu[1, n] ** 2\n",
    "            )\n",
    "            if n > 0:\n",
    "                # Penalize large control changes\n",
    "                J += 5e-3 * (self.uu[0, n] - self.uu[0, n - 1]) ** 2 + 5 * (\n",
    "                    self.uu[1, n] - self.uu[1, n - 1]\n",
    "                )\n",
    "            J += 1e5 * self.slack[0, n] ** 2\n",
    "\n",
    "            # Obstacle constraints\n",
    "            self.opti.subject_to(\n",
    "                (self.xx[0, n] - 4) ** 2 + (self.xx[1, n] - 4) ** 2\n",
    "                >= 3**2 - self.slack[0, n]\n",
    "            )\n",
    "            # self.opti.subject_to(\n",
    "            #     (self.xx[0, n] + 4) ** 2 + (self.xx[1, n] - 4) ** 2\n",
    "            #     >= 3**2 - self.slack[0, n]\n",
    "            # )\n",
    "\n",
    "        # Final state penalty\n",
    "        J += (\n",
    "            100 * self.xx[0, N] ** 2 + 100 * self.xx[1, N] ** 2 + 1 * self.xx[3, N] ** 2\n",
    "        )\n",
    "        self.opti.minimize(J)\n",
    "\n",
    "        # Actuation constraints\n",
    "        self.opti.subject_to(self.opti.bounded(-20, self.xx[0, :], 20))\n",
    "        self.opti.subject_to(self.opti.bounded(-20, self.xx[1, :], 20))\n",
    "        self.opti.subject_to(self.opti.bounded(-10, self.xx[3, :], 10))\n",
    "        self.opti.subject_to(self.opti.bounded(-20, self.uu[0, :], 20))\n",
    "        self.opti.subject_to(self.opti.bounded(-pi / 3, self.uu[1, :], pi / 3))\n",
    "\n",
    "        self.opti.solver(\n",
    "            \"ipopt\",\n",
    "            {\"print_time\": 0},\n",
    "            {\n",
    "                # \"linear_solver\": \"mumps\",\n",
    "                \"print_level\": 0,\n",
    "                \"sb\": \"yes\",\n",
    "                \"max_iter\": 100000,\n",
    "            },\n",
    "        )\n",
    "\n",
    "    def u(self, t, x):\n",
    "        self.opti.set_value(self.x0, x)\n",
    "        for n in range(self.n_horizon + 1):\n",
    "            self.opti.set_initial(self.xx[:, n], x)\n",
    "        sol = self.opti.solve()\n",
    "        # print(sol.value(self.slack))\n",
    "        return sol.value(self.uu[:, 0]), sol.value(self.xx[:, 1])\n",
    "\n",
    "    def make_trajectory(self, t0, tf, x0):\n",
    "        ts = onp.arange(t0, tf, self.u_step)\n",
    "        us = onp.zeros((len(ts), 2))\n",
    "        xs = onp.zeros((len(ts) + 1, x0.shape[0]))\n",
    "        xs[0] = x0\n",
    "\n",
    "        for i, t in enumerate(ts):\n",
    "            us[i], xs[i + 1] = self.u(t, xs[i])\n",
    "\n",
    "        return ts, xs, us"
   ]
  },
  {
   "cell_type": "markdown",
   "metadata": {},
   "source": [
    "The optimization is rather slow, so we cache its results by serializing to disk. "
   ]
  },
  {
   "cell_type": "code",
   "execution_count": 51,
   "metadata": {},
   "outputs": [],
   "source": [
    "try:\n",
    "    with open(\"vehicle_mpc.pkl\", \"rb\") as f:\n",
    "        ts = onp.load(f)\n",
    "        xs = onp.load(f)\n",
    "        us = onp.load(f)\n",
    "except FileNotFoundError:\n",
    "    ts, xs, us = VehicleControl(u_step=du, euler_steps=dtdu).make_trajectory(t0, tf, x0)\n",
    "    with open(\"vehicle_mpc.pkl\", \"wb\") as f:\n",
    "        onp.save(f, ts)\n",
    "        onp.save(f, xs)\n",
    "        onp.save(f, us)\n",
    "ts: jax.Array = jnp.asarray(ts)\n",
    "xs: jax.Array = jnp.asarray(xs)\n",
    "us: jax.Array = jnp.asarray(us)\n",
    "\n",
    "# nominal_traj = Trajectory(ts[0, -1], xs, jnp.ones_like(xs, dtype=bool))"
   ]
  },
  {
   "cell_type": "markdown",
   "metadata": {},
   "source": [
    "Next, we define an `immrax` system with the same dynamics used to compute our nominal control. \n",
    "Using the interval analysis features of `immrax`, this will allow us to eventually consider the case with interval initial conditions and disturbed control inputs. \n",
    "First, we start with a system that computes a single trajectory. \n",
    "Eventually, we will transform this into one that gives an over-appriximation of the reachable set for interval initial conditions and disturbances. "
   ]
  },
  {
   "cell_type": "code",
   "execution_count": 52,
   "metadata": {},
   "outputs": [],
   "source": [
    "class VehicleSys(irx.System):\n",
    "    def __init__(self, vehicle: Vehicle = Vehicle()):\n",
    "        self.vehicle = vehicle\n",
    "        self.evolution = \"continuous\"\n",
    "        self.xlen = 4\n",
    "\n",
    "    def f(self, t, x, u, w):\n",
    "        u1, u2 = u + w\n",
    "        _, _, psi, v = x.ravel()\n",
    "        beta = jnp.atan(\n",
    "            (self.vehicle.lr * jnp.tan(u2)) / (self.vehicle.lf + self.vehicle.lr)\n",
    "        )\n",
    "        return jnp.array(\n",
    "            [\n",
    "                v * jnp.cos(psi + beta),\n",
    "                v * jnp.sin(psi + beta),\n",
    "                v * jnp.sin(beta) / self.vehicle.lr,\n",
    "                u1,\n",
    "            ]\n",
    "        )\n",
    "\n",
    "\n",
    "sys = VehicleSys()"
   ]
  },
  {
   "cell_type": "markdown",
   "metadata": {},
   "source": [
    "Interval based reachability methods are notoriously over conservative. \n",
    "We apply interval refinement to mitigate this conservativeness. \n",
    "By using information about the relationships between state variables, the size of the interval overapproximation can be greatly reduced. "
   ]
  },
  {
   "cell_type": "code",
   "execution_count": 53,
   "metadata": {},
   "outputs": [],
   "source": [
    "num_pairings = 2\n",
    "H = jnp.eye(4)\n",
    "pairings = angular_sweep(num_pairings)\n",
    "x_psi = (\n",
    "    jnp.zeros((num_pairings, H.shape[1]))\n",
    "    .at[:, 0]\n",
    "    .set(pairings[:, 0])\n",
    "    .at[:, 2]\n",
    "    .set(pairings[:, 1])\n",
    ")\n",
    "y_psi = (\n",
    "    jnp.zeros((num_pairings, H.shape[1]))\n",
    "    .at[:, 1]\n",
    "    .set(pairings[:, 0])\n",
    "    .at[:, 2]\n",
    "    .set(pairings[:, 1])\n",
    ")\n",
    "x_v = (\n",
    "    jnp.zeros((num_pairings, H.shape[1]))\n",
    "    .at[:, 0]\n",
    "    .set(pairings[:, 0])\n",
    "    .at[:, 3]\n",
    "    .set(pairings[:, 1])\n",
    ")\n",
    "y_v = (\n",
    "    jnp.zeros((num_pairings, H.shape[1]))\n",
    "    .at[:, 1]\n",
    "    .set(pairings[:, 0])\n",
    "    .at[:, 3]\n",
    "    .set(pairings[:, 1])\n",
    ")\n",
    "H = jnp.vstack((H, x_psi, y_psi))\n",
    "# H = jnp.vstack((H, x_v, y_v))\n",
    "# H = jnp.vstack((H, H[0]))\n",
    "\n",
    "Hp = jnp.hstack((jnp.eye(H.shape[1]), jnp.zeros((H.shape[1], H.shape[0] - H.shape[1]))))\n",
    "\n",
    "ix0 = irx.icentpert(jnp.asarray(x0), jnp.array([0.05, 0.05, 0.01, 0.01]))\n",
    "lx0 = irx.interval(H) @ ix0\n",
    "w_int = irx.interval(jnp.zeros(2), jnp.array([3e-2, 3e-2]))\n",
    "w_worst_case = jnp.array([3e-2, -3e-2])"
   ]
  },
  {
   "cell_type": "markdown",
   "metadata": {},
   "source": [
    "Since the optimal control inputs from the single trajectory case are stored as a numerical array and applied as feed-forward control, `immrax` is unaware of the relationship between the state and control actions. \n",
    "This causes interval refinement to be less effective because it greatly benefits from simplifying to \"closed-loop\" dynamics. \n",
    "\n",
    "To combat this, we add a simple feedback control intended to drive the state towards the nominal trajectory computed above. \n",
    "In addition to being a reasonable design decision for real systems, this change significantly shrinks the reachable set over-approximation given by interval refinement. \n",
    "Standard interval reachability methods do not benefit from this change, as it requires an awareness of the relationship between state and control."
   ]
  },
  {
   "cell_type": "code",
   "execution_count": 54,
   "metadata": {},
   "outputs": [],
   "source": [
    "# Calculate LQR feedback matrix\n",
    "A = jax.jacfwd(sys.f, argnums=1)(0, x0, u_fdbk_nom, w_nom)\n",
    "B = jax.jacfwd(sys.f, argnums=2)(0, x0, u_fdbk_nom, w_nom)\n",
    "Q = jnp.eye(sys.xlen)\n",
    "R = jnp.eye(u_fdbk_nom.size)\n",
    "\n",
    "K, _, _ = control.lqr(A, B, Q, R)\n",
    "\n",
    "\n",
    "# Inclusion function for the system, with LQR feedback\n",
    "def F(\n",
    "    t: irx.Interval,\n",
    "    x: irx.Interval,\n",
    "    w: irx.Interval,\n",
    "    *,\n",
    "    nominal: Tuple[jax.Array, jax.Array, jax.Array, jax.Array],\n",
    "):\n",
    "    t_nom, x_nom, u_nom, w_nom = nominal\n",
    "    Mt, Mx, Mu, Mw = irx.jacM(sys.f)(\n",
    "        t, x, irx.interval(u_nom), w, centers=(nominal,)\n",
    "    )  # TODO: ask Akash about why he added an index [0] here. I think he had mjacM, and I changed to jacM\n",
    "    return (\n",
    "        (Mx - Mu @ irx.interval(K)) @ (x - x_nom)\n",
    "        + Mw @ (w - w_nom)\n",
    "        + sys.f(t_nom, x_nom, u_nom, w_nom)\n",
    "    )\n",
    "\n",
    "\n",
    "# Inclusion function for the lifted system\n",
    "def F_lifted(\n",
    "    t: irx.Interval,\n",
    "    x: irx.Interval,\n",
    "    w: irx.Interval,\n",
    "    *,\n",
    "    nominal: Tuple[jax.Array, jax.Array, jax.Array, jax.Array],\n",
    "):\n",
    "    x_base = irx.interval(Hp) @ x\n",
    "    return irx.interval(H) @ F(t, x_base, w, nominal=nominal)\n",
    "\n",
    "\n",
    "# Create an embedding system to compute the reachable set\n",
    "esys = AuxVarEmbedding(sys, H, mode=\"linprog\", F=F_lifted)"
   ]
  },
  {
   "cell_type": "markdown",
   "metadata": {},
   "source": [
    "With all of the machinery prepared, we can now compute both individual trajectories and reachable sets for the system with vehicle dynamics. "
   ]
  },
  {
   "cell_type": "code",
   "execution_count": 55,
   "metadata": {},
   "outputs": [],
   "source": [
    "@jit\n",
    "def rollout_cl_traj(u: jax.Array, w: jax.Array) -> Trajectory:\n",
    "    def f_euler(xt, ut):\n",
    "        xt, xt_nom = xt\n",
    "        ut, wt = ut\n",
    "        ut_fdbk = ut - K @ (xt - xt_nom)\n",
    "        xt += du / dtdu * sys.f(0.0, xt, jnp.asarray(ut_fdbk), jnp.asarray(wt))\n",
    "        xt_nom += du / dtdu * sys.f(0.0, xt_nom, jnp.asarray(ut), jnp.array([0.0]))\n",
    "        return ((xt, xt_nom), xt)\n",
    "\n",
    "    inputs = jnp.stack((u, w), axis=-2)\n",
    "    inputs = jnp.repeat(inputs, dtdu, axis=0)\n",
    "\n",
    "    _, x = jax.lax.scan(f_euler, (x0, x0), inputs)\n",
    "    ts = jnp.arange(t0, tf, du / dtdu)\n",
    "    return Trajectory(ts, x, jnp.ones_like(ts, dtype=bool))\n",
    "\n",
    "\n",
    "@jit\n",
    "def rollout_cl_interval_traj(u: jax.Array) -> Trajectory:\n",
    "    def f_euler(xt, ut):\n",
    "        xt, xt_nom = xt\n",
    "        xt += (\n",
    "            du\n",
    "            / dtdu\n",
    "            * esys.E(\n",
    "                irx.interval(jnp.array([0.0])),\n",
    "                xt,\n",
    "                w_int,\n",
    "                nominal=(jnp.array([0.0]), xt_nom, jnp.asarray(ut), jnp.array([0.0])),\n",
    "            )\n",
    "        )\n",
    "        xt_nom += du / dtdu * sys.f(0.0, xt_nom, jnp.asarray(ut), jnp.array([0.0]))\n",
    "\n",
    "        return ((xt, xt_nom), xt)\n",
    "\n",
    "    # _, x = jax.lax.scan(f_euler, (irx.i2ut(lx0), x0), u)\n",
    "    _, x = jax.lax.scan(f_euler, (irx.i2ut(lx0), x0), jnp.repeat(u, dtdu, axis=0))\n",
    "    ts = jnp.arange(t0, tf, du / dtdu)\n",
    "    return Trajectory(ts, x, jnp.ones_like(ts, dtype=bool))\n",
    "\n",
    "disturbances = jnp.repeat(w_worst_case.reshape((1, 2)), len(us), axis=0)\n",
    "disturbed_traj = rollout_cl_traj(us, disturbances)\n",
    "interval_traj = rollout_cl_interval_traj(us)\n"
   ]
  },
  {
   "cell_type": "code",
   "execution_count": 61,
   "metadata": {},
   "outputs": [
    {
     "data": {
      "image/png": "[encoded data removed]",
      "text/plain": [
       "<Figure size 640x480 with 1 Axes>"
      ]
     },
     "metadata": {},
     "output_type": "display_data"
    }
   ],
   "source": [
    "plt.rcParams.update({\"text.usetex\": True, \"font.family\": \"CMU Serif\", \"font.size\": 14})\n",
    "fig, ax = plt.subplots()\n",
    "\n",
    "circle = patches.Circle((4, 4), 3 - 1e-2, facecolor=\"salmon\", label=\"Obstacle\")\n",
    "ax.add_patch(circle)  # Obstacle\n",
    "\n",
    "ax.plot(xs[:, 0], xs[:, 1])  # MPC trajectory\n",
    "draw_refined_trajectory_2d(interval_traj, H)  # interval trajectory\n",
    "ax.plot(disturbed_traj.ys[:, 0], disturbed_traj.ys[:, 1])  # disturbed trajectory\n",
    "\n",
    "ax.set_xlabel(\"$x$ position\")\n",
    "ax.set_ylabel(\"$y$ position\")\n",
    "ax.set_title(\"Vehicle Trajectory\")\n",
    "ax.grid(True)\n",
    "\n",
    "# fig2 = plt.figure()\n",
    "# draw_trajectory_2d(interval_traj)\n",
    "# ax2 = plt.gca()\n",
    "# ax2.grid(True)\n",
    "# ax2.set_xlim(ax.get_xlim())\n",
    "# ax2.set_ylim(ax.get_ylim())\n",
    "# plt.show()"
   ]
  },
  {
   "cell_type": "code",
   "execution_count": 57,
   "metadata": {},
   "outputs": [
    {
     "name": "stdout",
     "output_type": "stream",
     "text": [
      "Compiled objective gradient\n"
     ]
    }
   ],
   "source": [
    "def ul_intersects(xt):\n",
    "    n = xt.size // 2\n",
    "    return jnp.maximum(3**2 - (xt[0] - 4)**2 - (xt[n+1] - 4)**2, 0.0)\n",
    "    \n",
    "\n",
    "def obj(u):\n",
    "    traj: Trajectory = rollout_cl_interval_traj(u)\n",
    "    losses = jax.vmap(ul_intersects)(traj._ys)\n",
    "    ys = jnp.where(traj.tfinite, losses, jnp.zeros_like(traj.tfinite))\n",
    "    return jnp.sum(ys)\n",
    "    \n",
    "# print(obj(us))\n",
    "\n",
    "obj_grad = jax.jit(jax.jacfwd(obj))\n",
    "obj_grad(us)\n",
    "print(\"Compiled objective gradient\")"
   ]
  },
  {
   "cell_type": "code",
   "execution_count": 58,
   "metadata": {},
   "outputs": [
    {
     "name": "stdout",
     "output_type": "stream",
     "text": [
      "Stepping... (size: 1325)\n",
      "Stepping... (size: 1279)\n",
      "Stepping... (size: 1211)\n",
      "Stepping... (size: 1157)\n",
      "Stepping... (size: 1052)\n",
      "Stepping... (size: 716.3)\n",
      "Stepping... (size: 368.9)\n",
      "Stepping... (size: 159.3)\n",
      "Stepping... (size: 17.68)\n",
      "Stepping... (size: 0)\n"
     ]
    }
   ],
   "source": [
    "lr = 1e-5\n",
    "steps = 10\n",
    "us_gd = us.copy()\n",
    "\n",
    "for i in range(steps):\n",
    "    grad = obj_grad(us_gd)\n",
    "    us_gd -= lr * grad\n",
    "    print(f\"Stepping... (size: {jnp.linalg.norm(grad):.4g})\")"
   ]
  },
  {
   "cell_type": "code",
   "execution_count": 63,
   "metadata": {},
   "outputs": [],
   "source": [
    "traj_gd = rollout_cl_interval_traj(us_gd)"
   ]
  },
  {
   "cell_type": "code",
   "execution_count": 65,
   "metadata": {},
   "outputs": [
    {
     "data": {
      "text/plain": [
       "Text(0, 0.5, '$y$ position')"
      ]
     },
     "execution_count": 65,
     "metadata": {},
     "output_type": "execute_result"
    },
    {
     "data": {
      "image/png": "[encoded data removed]",
      "text/plain": [
       "<Figure size 640x480 with 1 Axes>"
      ]
     },
     "metadata": {},
     "output_type": "display_data"
    }
   ],
   "source": [
    "fig, ax = plt.subplots()\n",
    "circle = patches.Circle((4, 4), 3 - 1e-2, facecolor=\"salmon\", label=\"Obstacle\")\n",
    "ax.add_patch(circle)  # Obstacle\n",
    "draw_refined_trajectory_2d(traj_gd, H)\n",
    "ax.grid(True)\n",
    "\n",
    "fig.suptitle(\"Modified Interval Trajectory\")\n",
    "ax.set_xlabel(\"$x$ position\")\n",
    "ax.set_ylabel(\"$y$ position\")"
   ]
  }
 ],
 "metadata": {
  "kernelspec": {
   "display_name": "gould",
   "language": "python",
   "name": "python3"
  },
  "language_info": {
   "codemirror_mode": {
    "name": "ipython",
    "version": 3
   },
   "file_extension": ".py",
   "mimetype": "text/x-python",
   "name": "python",
   "nbconvert_exporter": "python",
   "pygments_lexer": "ipython3",
   "version": "3.11.10"
  }
 },
 "nbformat": 4,
 "nbformat_minor": 2
}
