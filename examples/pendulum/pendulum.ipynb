{
 "cells": [
  {
   "cell_type": "markdown",
   "metadata": {},
   "source": [
    "(Pendulum)=\n",
    "# Robust Optimal Control on a Pendulum Using Automatic Differentiation\n",
    "\n",
    "In this example, we use Automatic Differentiation to solve a robust optimal control problem in the embedding space of a nonlinear pendulum. In particular, we build an objective function with robust constraints, automatically create and compile functions evaluating their gradients, Jacobians, and Hessians, and finally setup an interior point minimization problem to find a locally optimal solution using IPOPT.\n",
    "\n",
    "This example is from the paper \"$\\texttt{immrax}$: A Parallalizable and Differentiable Toolbox for Interval Analysis and Mixed Monotone Reachability in JAX\"."
   ]
  },
  {
   "cell_type": "markdown",
   "metadata": {},
   "source": [
    "## Preliminaries\n",
    "\n",
    "To run this example, you'll need `cyipopt` and the MA57 linear solver from HSL. See the [Installation](Installation) page for more information on how to install these."
   ]
  },
  {
   "cell_type": "code",
   "execution_count": 1,
   "metadata": {},
   "outputs": [],
   "source": [
    "import jax\n",
    "import jax.numpy as jnp\n",
    "import immrax as irx\n",
    "from typing import Tuple"
   ]
  },
  {
   "cell_type": "markdown",
   "metadata": {},
   "source": [
    "We will be using IPOPT to solve a minimization problem. Since IPOPT is CPU-based and 64-bit, we configure JAX with these options as well. We can use the GPU here instead of the CPU for some operations, but empirically, the time to transfer data between the CPU and GPU is much larger than the amount of time the problem takes on the CPU only."
   ]
  },
  {
   "cell_type": "code",
   "execution_count": 2,
   "metadata": {},
   "outputs": [],
   "source": [
    "# Some configurations\n",
    "jax.config.update(\"jax_enable_x64\", True)\n",
    "\n",
    "# We wrap the jax.jit function to set the backend to cpu by default for convenience.\n",
    "device = 'cpu'\n",
    "def jit (*args, **kwargs):\n",
    "    kwargs.setdefault('backend', device)\n",
    "    return jax.jit(*args, **kwargs)"
   ]
  },
  {
   "cell_type": "markdown",
   "metadata": {},
   "source": [
    "### The pendulum's dynamics\n",
    "Consider the dynamics of a forced, damped pendulum\n",
    "\n",
    "$$\n",
    "ml^2\\ddot{\\theta} + b\\dot{\\theta} + mgl\\sin(\\theta) = \\tau\n",
    "$$\n",
    "\n",
    "with $m=0.15\\mathrm{kg}$, $l=0.5\\mathrm{m}$, $b=0.1\\mathrm{N\\cdot m \\cdot s}$, and $g=9.81\\mathrm{m}/\\mathrm{s}^2$.\n",
    "The torque $\\tau := (1 + w)u$, where $u\\in\\mathbb{R}$ is the desired torque input and $w\\in[\\underline{w},\\overline{w}] := [-0.02,0.02]$ is a bounded multiplicative disturbance on the control input. We implement this as a $2$-state system with $x := (\\theta, \\dot{\\theta})$,\n",
    "\n",
    "$$\n",
    "\\dot{x} = \n",
    "     f(x,u,w) = \n",
    "     \\left[\\begin{matrix} x_2 \\\\ \\frac{(1 + w)u - bx_2}{ml^2} - \\frac{g}{l}\\sin x_1 \\end{matrix}\\right]\n",
    "$$\n",
    "\n",
    "This is implemented in `immrax` as a `System`, with the specified dynamics written using `jax.numpy`."
   ]
  },
  {
   "cell_type": "code",
   "execution_count": 3,
   "metadata": {},
   "outputs": [],
   "source": [
    "g = 9.81\n",
    "\n",
    "class Pendulum (irx.System) :\n",
    "    m:float\n",
    "    l:float\n",
    "    b:float\n",
    "\n",
    "    def __init__(self, m:float = 0.15, l:float = 0.5, b:float = 0.1) -> None:\n",
    "        # Tells immrax that the system is continuous\n",
    "        self.evolution = 'continuous'\n",
    "        # Tells immrax the number of states\n",
    "        self.xlen = 2\n",
    "        self.m = m\n",
    "        self.l = l\n",
    "        self.b = b\n",
    "        self.fi = [\n",
    "            lambda t, x, u, w : x[1],\n",
    "            lambda t, x, u, w : (((1 + w[0])*u[0] - self.b*x[1]) / ((self.m) * self.l**2)) - (g/self.l)*jnp.sin(x[0])\n",
    "        ]\n",
    "\n",
    "    def f(self, t: float, x: jax.Array, u: jax.Array, w: jax.Array) -> jax.Array:\n",
    "        return jnp.array([\n",
    "            x[1],\n",
    "            (((1 + w[0])*u[0] - self.b*x[1]) / \n",
    "                ((self.m) * self.l**2)) - (g/self.l)*jnp.sin(x[0])\n",
    "        ])\n",
    "        # return jnp.array([fi(t, x, u, w) for fi in self.fi])\n",
    "    \n",
    "sys = Pendulum()"
   ]
  },
  {
   "cell_type": "markdown",
   "metadata": {},
   "source": [
    "### Problem Statement\n",
    "We seek to find a finite-time closed-loop optimal control policy $\\pi:[0,T]\\times\\mathbb{R}^n\\to\\mathbb{R}$ to swing up the pendulum to an *a priori* safe region at the top.\n",
    "We consider linear feedback control policies of the form $\\pi(t,x) := K(x(t) - x_{\\mathrm{nom}}(t)) + u_{\\mathrm{ff}}(t)$, where $K$ is a time invariant linear closed-loop stabilizing term to help counter the disturbance, $u_{\\mathrm{ff}}:[0,T]\\to\\mathbb{R}$ is a feedforward control policy, and $x_\\mathrm{nom}:[0,T]\\to\\mathbb{R}^n$ is the nominal trajectory of the deterministic system under the feedforward control law $u_\\mathrm{ff}$ with known disturbance mapping $w_{\\mathrm{nom}}:[0,T]\\to\\mathbb{R}$.\n",
    "The closed-loop system is thus\n",
    "\n",
    "$$ \n",
    "    \\dot{x} = f(x,\\pi(t,x),w) = f^\\pi (t, x, w).\n",
    "$$\n"
   ]
  },
  {
   "cell_type": "markdown",
   "metadata": {},
   "source": [
    "## Embedding System for the Pendulum\n",
    "Consider the following function\n",
    "\n",
    "$$\n",
    "\\begin{align*}\n",
    "[\\textsf{F}^\\pi(t,\\underline{x},\\overline{x},\\underline{w},\\overline{w})] := &\\, ([\\textsf{M}_x] + [\\textsf{M}_u]K)([\\underline{x},\\overline{x}] - x_\\mathrm{nom}(t)) \\\\\n",
    "    % &+ [\\textsf{M}_u^\\mathcal{O}]([\\ulu,\\olu] - \\mathring{u}) \n",
    "    & + [\\textsf{M}_w]([\\underline{w},\\overline{w}] - w_\\mathrm{nom}(t)) \\\\\n",
    "    & + f(x_\\mathrm{nom}(t),u_{\\mathrm{ff}}(t),w_\\mathrm{nom}(t)),\n",
    "\\end{align*}\n",
    "$$\n",
    "\n",
    "with $[\\textsf{M}_x\\ \\textsf{M}_u\\ \\textsf{M}_w] := [\\textsf{M}_\\sigma^{\\xi_\\mathrm{nom}(t)}(\\underline{x},\\overline{x},u_\\mathrm{ff}(t),u_\\mathrm{ff}(t),\\underline{w},\\overline{w})]$, where $\\textsf{M}$ is defined as Proposition~\\ref{prop:MixedJacobian-Based} afor the map $\\hat{f} : \\mathbb{R}^{n+p+q} \\to \\mathbb{R}^n$ such that $\\hat{f}((x,u,w)) := f(x,u,w)$, for some $(n+p+q)$-permutation $\\sigma$, and $\\xi_\\mathrm{nom}(t) := (x_\\mathrm{nom}(t),u_\\mathrm{ff}(t),w_\\mathrm{nom}(t))$.\n",
    "This is a valid inclusion function for the closed-loop dynamics $f^\\pi$~\\eqref{eq:pendulumcldyn} (proof deferred to Appendix~\\ref{apax:sec:proofclpend}, which uses Proposition~\\ref{prop:MixedJacobian-Based} Part~\\eqref{prop:MixedJacobian-Based:p1}).\n",
    "\n",
    "We use the `mjacM` transform to implement the inclusion function in in `immrax`. We expect the nominal values to be given as an input to the inclusion function, which will be calculated externally."
   ]
  },
  {
   "cell_type": "code",
   "execution_count": 4,
   "metadata": {},
   "outputs": [],
   "source": [
    "sys_mjacM = irx.mjacM(sys.f)\n",
    "# sys_mjacM = irx.jacM(sys.f)\n",
    "\n",
    "@jit\n",
    "def F (t:irx.Interval, x:irx.Interval, w:irx.Interval, *, K:jnp.ndarray, \n",
    "       nominal:Tuple[jnp.ndarray, jnp.ndarray, jnp.ndarray, jnp.ndarray]) :\n",
    "    tc, xc, uc, wc = nominal\n",
    "    Mt, Mx, Mu, Mw = sys_mjacM(t, x, irx.interval(uc), w, centers=(nominal,))[0]\n",
    "    # Mt, Mx, Mu, Mw = sys_mjacM(t, x, irx.interval(uc), w, centers=(nominal,))\n",
    "    return (\n",
    "        (Mx + Mu @ irx.interval(K)) @ (x - xc)\n",
    "        + Mw @ (w - wc) + sys.f(tc, xc, uc, wc)\n",
    "    )"
   ]
  },
  {
   "cell_type": "markdown",
   "metadata": {},
   "source": [
    "Following the treatment from the paper, now that we have an inclusion function for the dynamics of the system, we will embed the closed-loop pendulum dynamics into a new $2n$-dimensional embedding system that provides efficient bounds for its reachable set.\n",
    "\n",
    "$$\n",
    "\\dot{\\underline{x}}_i = \\underline{\\textsf{E}}_i(t,\\underline{x},\\overline{x},\\underline{w},\\overline{w}) := \\underline{\\textsf{F}}_i^\\pi(t,\\underline{x},\\overline{x}_{i:\\underline{x}},\\underline{w},\\overline{x}), \\\\\n",
    "\\dot{\\overline{x}}_i = \\overline{\\textsf{E}}_i(t,\\underline{x},\\overline{x},\\underline{w},\\overline{w}) := \\overline{\\textsf{F}}_i^\\pi(t,\\underline{x}_{i:\\overline{x}},\\overline{x},\\underline{w},\\overline{x}),\n",
    "$$\n",
    "\n",
    "This embedding is automatically performed in `immrax` by the `ifemb` transform, which takes a `System` and an inclusion function for its dynamics, and returns the corresponding `EmbeddingSystem`."
   ]
  },
  {
   "cell_type": "code",
   "execution_count": 5,
   "metadata": {},
   "outputs": [],
   "source": [
    "embsys = irx.ifemb(sys, F)"
   ]
  },
  {
   "cell_type": "markdown",
   "metadata": {},
   "source": [
    "## Using Autodiff to Setup an IPOPT Minimization Problem\n",
    "\n",
    "### The problem itself\n",
    "Now that we have the embedding system `embsys`, we will try to solve an optimization problem of the following form:\n",
    "\n",
    "$$\n",
    "\\begin{aligned}\n",
    "    \\min_{u_\\mathrm{ff}, K} &\\sum_{i=1}^N |u_{\\mathrm{ff}}(t_i)|^2 + \\|K\\|_F^2 + \\sum_{i=1}^N \\|\\overline{x}(t_i) - \\underline{x}(t_i)\\|_2^2 \\\\\n",
    "    \\text{s.t.}& \\ \\  \\underline{x}_f \\leq \\underline{x}(t_j),\\ \\ \\overline{x}(t_j) \\leq \\overline{x}_f, \\ \\ j=N_e,\\dots,N, \\ \\\\ \n",
    "    & \\underline{x}(0) = \\overline{x}(0) = (0, 0), \\\\\n",
    "    & \\left[\\begin{matrix} \\underline{x}(t_{i+1}) \\\\ \\overline{x}(t_{i+1}) \\end{matrix}\\right] = \\left[\\begin{matrix} \\underline{x}(t_{i}) \\\\ \\overline{x}(t_{i}) \\end{matrix}\\right] + \\Delta t \\textsf{E}(t_i,\\underline{x}(t_i),\\overline{x}(t_i),\\underline{w},\\overline{w}), \n",
    "\\end{aligned}\n",
    "$$\n",
    "\n",
    "where the embedding dynamics $\\textsf{E}$ are discretized using Euler integration with step size $\\Delta t$.\n",
    "\n",
    "The first and second terms of the objective are typical quadratic conditioning of the decision variables. The third term is a regularization factor intended to help curb the expansion of the gap between the upper and lower bound, which emperically helps the optimization problem converge to a feasible solution.\n",
    "Finally, in the inequality constraints, we require that the pendulum reach a target set $[\\underline{x}_f,\\overline{x}_f]$ and stay within these constraints for $t\\in[t_{N_e},t_N]$."
   ]
  },
  {
   "cell_type": "markdown",
   "metadata": {},
   "source": [
    "### Towards an IPOPT implementation\n",
    "\n",
    "In the following code, we define variables setting up the minimization problem with the following definitions:\n",
    "\n",
    "$$\n",
    "t_0 = 0,\\quad t_{N_e} = 3,\\quad t_N = 3.25,\\quad \\Delta t = 0.05, \\\\\n",
    "[\\underline{x}_f,\\overline{x}_f] = \\left[\\begin{bmatrix} \\pi - \\frac{10\\pi}{360} \\\\ -0.1 \\end{bmatrix} , \\begin{bmatrix} \\pi + \\frac{10\\pi}{360} \\\\ +0.1 \\end{bmatrix}\\right]\n",
    "$$\n"
   ]
  },
  {
   "cell_type": "code",
   "execution_count": 6,
   "metadata": {},
   "outputs": [],
   "source": [
    "# Problem Parameters\n",
    "\n",
    "# Time horizon and discretization\n",
    "t0, te, tf, dt = 0, 3., 3.25, 0.05\n",
    "Ne = round((te - t0)/dt) \n",
    "N = round((tf - t0)/dt) + 1\n",
    "tt = jnp.arange(t0, tf + dt, dt)\n",
    "\n",
    "# Initial condition (no initial perturbation)\n",
    "x0 = irx.interval(jnp.array([0.,0.]))\n",
    "x0ut = irx.i2ut(x0); x0cent, x0pert = irx.i2centpert(x0)\n",
    "\n",
    "# Final set constraint\n",
    "xf = irx.icentpert(jnp.array([jnp.pi,0.]), jnp.array([10.*(jnp.pi/360),0.1]))\n",
    "xfl, xfu = irx.i2lu(xf); xfut = irx.i2ut(xf); xfcent, xfpert = irx.i2centpert(xf)\n",
    "\n",
    "# Disturbance bounds [-0.02, 0.02]\n",
    "# w = irx.icentpert(0., 0.02)\n",
    "w = irx.icentpert(0., 0.01)"
   ]
  },
  {
   "cell_type": "markdown",
   "metadata": {},
   "source": [
    "We put all decision variables into one vector."
   ]
  },
  {
   "cell_type": "code",
   "execution_count": 7,
   "metadata": {},
   "outputs": [],
   "source": [
    "# Initial guess for control u_ff (zeros) and linear matrix K ([-1 -1])\n",
    "K = jnp.array([[-1.,-1.]])\n",
    "u0 = jnp.concatenate((jnp.zeros(N), K.reshape(-1)))\n",
    "\n",
    "# Function to split decision vector into u_ff and K\n",
    "def split_u (u:jax.Array) -> Tuple[jax.Array, jax.Array]:\n",
    "    return u[:-2], u[-2:].reshape(1,2)"
   ]
  },
  {
   "cell_type": "markdown",
   "metadata": {},
   "source": [
    "Next, we implement a couple of helper functions. They use `jax.lax.scan` to perform a simple and efficient Euler integration of the dynamics to the specified time horizon. We could use the `System.compute_trajectory` function instead, which uses `diffrax` to integrate the dynamics with many different options of integrators."
   ]
  },
  {
   "cell_type": "code",
   "execution_count": 8,
   "metadata": {},
   "outputs": [],
   "source": [
    "# Function to rollout the undisturbed pendulum dynamics using Euler integration\n",
    "@jit\n",
    "def rollout_ol_sys_undisturbed (u:jax.Array) -> jax.Array :\n",
    "    u, K = split_u(u)\n",
    "    def f_euler (xt, ut) :\n",
    "        xtp1 = xt + dt*sys.f(0., xt, jnp.array([ut]), jnp.array([0.]))\n",
    "        return (xtp1, xtp1)\n",
    "    _, x = jax.lax.scan(f_euler, x0cent, u)\n",
    "    return x\n",
    "\n",
    "# Function to rollout the closed-loop embedding system dynamics using Euler integration\n",
    "@jit\n",
    "def rollout_cl_embsys (u:jax.Array) -> jax.Array :\n",
    "    u, K = split_u(u)\n",
    "    def f_euler (xt, ut) :\n",
    "        xtut, xnomt = xt\n",
    "        xtutp1 = xtut + dt*embsys.E(irx.interval([0.]), xtut, w, K=K, \n",
    "                        nominal=(jnp.array([0.]), xnomt, jnp.array([ut]), jnp.array([0.])))\n",
    "        xnomtp1 = xnomt + dt*sys.f(0., xnomt, jnp.array([ut]), jnp.array([0.]))\n",
    "        return ((xtutp1,xnomtp1), xtutp1)\n",
    "    _, x = jax.lax.scan(f_euler, (x0ut, x0cent), u)\n",
    "    return x"
   ]
  },
  {
   "cell_type": "markdown",
   "metadata": {},
   "source": [
    "Using the `rollout_cl_embsys` function, we implement the desired objective function above."
   ]
  },
  {
   "cell_type": "code",
   "execution_count": 9,
   "metadata": {},
   "outputs": [],
   "source": [
    "# Objective Function\n",
    "@jit\n",
    "def obj (u:jax.Array) -> jax.Array :\n",
    "    x = rollout_cl_embsys(u)\n",
    "    return jnp.sum(u**2) + jnp.sum((x[:,2:] - x[:,:2])**2)"
   ]
  },
  {
   "cell_type": "markdown",
   "metadata": {},
   "source": [
    "Next, we implement the inequality terminal set constraints as a function `con_ineq(u)` $\\geq 0$."
   ]
  },
  {
   "cell_type": "code",
   "execution_count": 10,
   "metadata": {},
   "outputs": [],
   "source": [
    "# Inequality constraints\n",
    "@jit\n",
    "def con_ineq (u) :\n",
    "    x = rollout_cl_embsys(u)\n",
    "    return jnp.concatenate(((x[Ne:,:2] - xfl).reshape(-1), \n",
    "                            (xfu - x[Ne:,2:]).reshape(-1)))"
   ]
  },
  {
   "cell_type": "markdown",
   "metadata": {},
   "source": [
    "### The Automatic Differentiation Step\n",
    "\n",
    "Next, we use JAX's autodiff transforms to automatically create functions to compute the objective's gradient and Hessian, as well as the Jacobian and Hessian vector product of the constraints with respect to the Lagrange multipliers. We precompile (JIT compile) these functions to separate their compilation from the rest of the stack."
   ]
  },
  {
   "cell_type": "code",
   "execution_count": 11,
   "metadata": {},
   "outputs": [
    {
     "name": "stdout",
     "output_type": "stream",
     "text": [
      "JIT Compiling Autodiff Functions...\n",
      "Finished JIT for obj\n",
      "Finished JIT for obj_grad\n",
      "Finished JIT for obj_hess\n",
      "Finished JIT for con_ineq_jac\n",
      "Finished JIT for con_ineq_hessvp\n",
      "Finished JIT Compiling Autodiff Functions in 12.03823471069336 seconds\n"
     ]
    }
   ],
   "source": [
    "obj_grad = jit(jax.grad(obj))  # Objective Gradient\n",
    "obj_hess = jit(jax.jacfwd(jax.jacrev(obj)))  # Objective Hessian\n",
    "con_ineq_jac = jit(jax.jacfwd(con_ineq))  # Constraint Jacobian\n",
    "con_ineq_hess = jit(jax.jacfwd(jax.jacrev(con_ineq))) # Constraint Hessian\n",
    "\n",
    "# Constraint Hessian-Vector Product\n",
    "@jit\n",
    "def con_ineq_hessvp (u, v) :\n",
    "    def hessvp (u) :\n",
    "        _, hvp = jax.vjp(con_ineq, u)\n",
    "        return hvp(v)[0] # One tangent, one output. u^T dc_v\n",
    "    return jax.jacrev(hessvp)(u) \n",
    "\n",
    "print('JIT Compiling Autodiff Functions...')\n",
    "from time import time\n",
    "time0 = time()\n",
    "obj(u0)\n",
    "print('Finished JIT for obj')\n",
    "obj_grad(u0)\n",
    "print('Finished JIT for obj_grad')\n",
    "obj_hess(u0)\n",
    "print('Finished JIT for obj_hess')\n",
    "con_ineq_jac(u0)\n",
    "print('Finished JIT for con_ineq_jac')\n",
    "con_ineq_hessvp(u0, jnp.ones(4*(N - Ne)))\n",
    "print('Finished JIT for con_ineq_hessvp')\n",
    "timef = time()\n",
    "print(f'Finished JIT Compiling Autodiff Functions in {timef - time0} seconds')"
   ]
  },
  {
   "cell_type": "markdown",
   "metadata": {},
   "source": [
    "## Minimization in IPOPT\n",
    "\n",
    "Finally, we solve the optimization problem from above using a call to IPOPT."
   ]
  },
  {
   "cell_type": "code",
   "execution_count": 12,
   "metadata": {},
   "outputs": [
    {
     "name": "stdout",
     "output_type": "stream",
     "text": [
      "\n",
      "******************************************************************************\n",
      "This program contains Ipopt, a library for large-scale nonlinear optimization.\n",
      " Ipopt is released as open source code under the Eclipse Public License (EPL).\n",
      "         For more information visit https://github.com/coin-or/Ipopt\n",
      "******************************************************************************\n",
      "\n",
      "Total number of variables............................:       68\n",
      "                     variables with only lower bounds:        0\n",
      "                variables with lower and upper bounds:        0\n",
      "                     variables with only upper bounds:        0\n",
      "Total number of equality constraints.................:        0\n",
      "Total number of inequality constraints...............:       24\n",
      "        inequality constraints with only lower bounds:       24\n",
      "   inequality constraints with lower and upper bounds:        0\n",
      "        inequality constraints with only upper bounds:        0\n",
      "\n",
      "Reallocating memory for MA57: lfact (24303)\n",
      "\n",
      "Number of Iterations....: 100\n",
      "\n",
      "                                   (scaled)                 (unscaled)\n",
      "Objective...............:   1.0211171310307581e+01    1.0211171310307581e+01\n",
      "Dual infeasibility......:   1.5353631923774053e-01    1.5353631923774053e-01\n",
      "Constraint violation....:   6.1951731179504279e-04    6.1951731179504279e-04\n",
      "Variable bound violation:   0.0000000000000000e+00    0.0000000000000000e+00\n",
      "Complementarity.........:   3.3238084961253186e-11    3.3238084961253186e-11\n",
      "Overall NLP error.......:   1.5353631923774053e-01    1.5353631923774053e-01\n",
      "\n",
      "\n",
      "Number of objective function evaluations             = 309\n",
      "Number of objective gradient evaluations             = 101\n",
      "Number of equality constraint evaluations            = 0\n",
      "Number of inequality constraint evaluations          = 312\n",
      "Number of equality constraint Jacobian evaluations   = 0\n",
      "Number of inequality constraint Jacobian evaluations = 101\n",
      "Number of Lagrangian Hessian evaluations             = 100\n",
      "Total seconds in IPOPT                               = 6.228\n",
      "\n",
      "EXIT: Maximum Number of Iterations Exceeded.\n"
     ]
    }
   ],
   "source": [
    "from cyipopt import minimize_ipopt\n",
    "\n",
    "# Constraints\n",
    "cons = [ {'type': 'ineq', 'fun': con_ineq, 'jac': con_ineq_jac, 'hess': con_ineq_hessvp}, ]\n",
    "bnds = [(-100.,100.) for _ in range(u0.size)]\n",
    "\n",
    "ipopt_opts = {\n",
    "    b'disp': 4, \n",
    "    b'linear_solver': 'ma57', \n",
    "    b'hsllib': 'libcoinhsl.so', \n",
    "    b'tol': 1e-3,\n",
    "    b'max_iter': 100,\n",
    "}\n",
    "\n",
    "# Solve the optimization problem\n",
    "res = minimize_ipopt(obj, jac=obj_grad, hess=obj_hess, x0=u0,\n",
    "                     constraints=cons, options=ipopt_opts)"
   ]
  },
  {
   "cell_type": "markdown",
   "metadata": {},
   "source": [
    "## Visualizing the Results"
   ]
  },
  {
   "cell_type": "code",
   "execution_count": 13,
   "metadata": {},
   "outputs": [
    {
     "name": "stdout",
     "output_type": "stream",
     "text": [
      "u_ff = [-0.06158441 -0.04606754 -0.02378946 -0.00756062 -0.03113179 -0.00151721\n",
      "  0.04007053  0.08190575  0.12109417  0.15539609  0.18262033  0.2007521\n",
      "  0.20808809  0.20336681  0.18587744  0.15553136  0.11288868  0.05914631\n",
      " -0.00303266 -0.03560669 -0.11135209 -0.18752891 -0.26018147 -0.32500387\n",
      " -0.37760746 -0.41392048 -0.43064912 -0.42567485 -0.39822984 -0.34877718\n",
      " -0.27864631 -0.18958942 -0.08346193  0.01764582  0.1523313   0.29655873\n",
      "  0.44503022  0.5900431   0.72141828  0.82777128  0.89914029  0.93008234\n",
      "  0.92162761  0.88072474  0.81758033  0.74261813  0.6628531   0.58410194\n",
      "  0.50993847  0.44200419  0.3807687   0.32598549  0.27697941  0.23280639\n",
      "  0.19231992  0.15416854  0.11673608  0.07802607  0.03548086 -0.00697087\n",
      " -0.06805522  0.04089628  0.03152967  0.02163029  0.01065232  0.00147965],\n",
      "K = [[-0.03049565 -0.59871145]]\n"
     ]
    }
   ],
   "source": [
    "# Plotting imports\n",
    "%matplotlib widget\n",
    "import matplotlib.pyplot as plt\n",
    "import matplotlib.animation as animation\n",
    "from matplotlib.patches import Wedge\n",
    "from immrax.utils import plot_interval_t\n",
    "\n",
    "# Use latex fonts\n",
    "plt.rcParams.update({\n",
    "    \"text.usetex\": True,\n",
    "    \"font.family\": \"Helvetica\",\n",
    "    \"font.size\": 14\n",
    "})\n",
    "\n",
    "uu = res.x\n",
    "print(f'u_ff = {split_u(uu)[0]},\\nK = {split_u(uu)[1]}')"
   ]
  },
  {
   "cell_type": "code",
   "execution_count": 14,
   "metadata": {},
   "outputs": [
    {
     "name": "stdout",
     "output_type": "stream",
     "text": [
      "Constraints satisfied to -0.0006195273117950428!\n"
     ]
    },
    {
     "data": {
      "application/vnd.jupyter.widget-view+json": {
       "model_id": "e977712243ba424a9e8409d690a9d533",
       "version_major": 2,
       "version_minor": 0
      },
      "image/png": "[encoded data removed]",
      "text/html": [
       "\n",
       "            <div style=\"display: inline-block;\">\n",
       "                <div class=\"jupyter-widgets widget-label\" style=\"text-align: center;\">\n",
       "                    Figure\n",
       "                </div>\n",
       "                <img src='data:image/png;base64,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' width=800.0/>\n",
       "            </div>\n",
       "        "
      ],
      "text/plain": [
       "Canvas(toolbar=Toolbar(toolitems=[('Home', 'Reset original view', 'home', 'home'), ('Back', 'Back to previous …"
      ]
     },
     "metadata": {},
     "output_type": "display_data"
    }
   ],
   "source": [
    "# Trajectory vs time\n",
    "\n",
    "unrolledout = rollout_ol_sys_undisturbed(uu)\n",
    "clrolledout = rollout_cl_embsys(uu)\n",
    "\n",
    "if jnp.all(con_ineq(uu) >= -1e-3) :\n",
    "    print(f'Constraints satisfied to {jnp.min(con_ineq(uu))}!')\n",
    "else :\n",
    "    print(f'Constraints not satisfied, worst is {jnp.min(con_ineq(uu))}!')\n",
    "    print(con_ineq(uu))\n",
    "\n",
    "fig1, axs = plt.subplots(1,2,dpi=100,figsize=[8,4])\n",
    "fig1.subplots_adjust(top=0.95, bottom=0.15, left=0.075, right=0.975)\n",
    "\n",
    "axs[0].set_xlabel('$t$'); axs[1].set_xlabel('$t$')\n",
    "axs[0].set_ylabel('$\\\\theta$', rotation=0, labelpad=5)\n",
    "axs[1].set_ylabel('$\\\\dot{\\\\theta}$', rotation=0, labelpad=5)\n",
    "axs[0].plot(tt, unrolledout[:,0], color='k')\n",
    "axs[1].plot(tt, unrolledout[:,1], color='k')\n",
    "plot_interval_t(axs[0], tt, xf[0]*jnp.ones(N), color='k')\n",
    "plot_interval_t(axs[1], tt, xf[1]*jnp.ones(N), color='k')\n",
    "plot_interval_t(axs[0], tt, irx.interval(clrolledout[:,0], clrolledout[:,2]), color='tab:blue')\n",
    "plot_interval_t(axs[1], tt, irx.interval(clrolledout[:,1], clrolledout[:,3]), color='tab:blue')\n",
    "fig1.savefig('figures/pendulum.pdf')\n",
    "\n",
    "plt.show()"
   ]
  },
  {
   "cell_type": "markdown",
   "metadata": {},
   "source": [
    "If the figure did not load, please see [pendulum.pdf](./figures/pendulum.pdf)."
   ]
  },
  {
   "cell_type": "code",
   "execution_count": 15,
   "metadata": {},
   "outputs": [
    {
     "data": {
      "text/html": [
       "<video controls  >\n",
       " <source src=\"data:video/mp4;base64,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\" type=\"video/mp4\">\n",
       " Your browser does not support the video tag.\n",
       " </video>"
      ],
      "text/plain": [
       "<IPython.core.display.Video object>"
      ]
     },
     "execution_count": 15,
     "metadata": {},
     "output_type": "execute_result"
    }
   ],
   "source": [
    "# Animation of pendulum\n",
    "\n",
    "th2deg = lambda th : (th * 180) / jnp.pi - 90\n",
    "anifig, anim = plt.subplots(1,1,dpi=100,figsize=[4,4])\n",
    "anifig.subplots_adjust()\n",
    "wedge = anim.add_patch(Wedge((0,0),sys.l,th2deg(clrolledout[0,0]),th2deg(clrolledout[0,2]), lw=2, ec='k'))\n",
    "anim.add_patch(Wedge((0,0), sys.l, th2deg(xfl[0]), th2deg(xfu[0]), color='k', alpha=0.25))\n",
    "anim.set_xlim(-sys.l*1.2, sys.l*1.2)\n",
    "anim.set_ylim(-sys.l*1.2, sys.l*1.2)\n",
    "def animate(t) :\n",
    "    wedge.set( theta1 = th2deg(clrolledout[t,0]), theta2 = th2deg(clrolledout[t,2]) )\n",
    "    anifig.suptitle(f'$t = {t*dt:.2f}$')\n",
    "    anifig.savefig(f'figures/frames/pendulum_{t:05d}.pdf')\n",
    "\n",
    "ani = animation.FuncAnimation(anifig, animate, frames=N, repeat=True, interval=dt*1000)\n",
    "\n",
    "FFwriter = animation.FFMpegWriter(fps=(1/dt))\n",
    "ani.save('figures/pendulum.mp4', writer=FFwriter)\n",
    "\n",
    "plt.close()\n",
    "\n",
    "from IPython.display import Video\n",
    "Video('figures/pendulum.mp4', embed=True)"
   ]
  },
  {
   "cell_type": "markdown",
   "metadata": {},
   "source": [
    "If the video did not render, please see [pendulum.mp4](./figures/pendulum.mp4)."
   ]
  }
 ],
 "metadata": {
  "kernelspec": {
   "display_name": "Python 3",
   "language": "python",
   "name": "python3"
  },
  "language_info": {
   "codemirror_mode": {
    "name": "ipython",
    "version": 3
   },
   "file_extension": ".py",
   "mimetype": "text/x-python",
   "name": "python",
   "nbconvert_exporter": "python",
   "pygments_lexer": "ipython3",
   "version": "3.11.11"
  }
 },
 "nbformat": 4,
 "nbformat_minor": 2
}
